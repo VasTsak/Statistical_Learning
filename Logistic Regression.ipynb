{
 "cells": [
  {
   "cell_type": "markdown",
   "metadata": {},
   "source": [
    "# Overview\n",
    "\n",
    "Logistic regression seeks to : \n",
    "- **model** the probability of an event occuring depending on the values of the independent variables, which can be categorical or numerical;\n",
    "\n",
    "- **estimate** the probability that an event occurs for a randomly selected observation versus the probability that the event does not occur;\n",
    "- **predict** the effect of a series of variables on a binary response variable;\n",
    "- **classify** observations by estimating the probability that an observation is in a particular category (such as manual or automatic in our problem)\n",
    "\n",
    "Why don't we use Linear Regression instead?\n",
    "1. Binary data does not have a normal distribution, which is a condition needed for most other types of regression\n",
    "- Predicted values of the dependent variable can be beyond 0 and 1 which violates the definition of probability\n",
    "- Probabilities are often not linear such as “U” shapes where probability is very low or very high at the extremes of x-values .\n",
    "\n",
    "Some background so that you can understand the importance of odds ratio in logistic regression. \n",
    "\n",
    "- **Probabilities**: $\\dfrac{outcomes of interest}{all possible outcomes}$\n",
    "- **Odds**: $\\dfrac{P(Occuring)}{P(Not Occuring)} \\rightarrow \\dfrac{P(Occuring)}{1 - P(Occuring)}$\n",
    "\n",
    "- **Odds Ratio**: Ratio of two odds $\\rightarrow \\dfrac{\\dfrac{P(\\text{Occuring 1})}{1 - P(\\text{Occuring 1} )}}{\\dfrac{P(\\text{Occuring 2})}{1 - P(\\text{Occuring 2})}}$\n",
    "\n",
    "**Odds Ratio Example**\n",
    "\n",
    "Assume we have two coins, one fair(probability of 0.5 for both sides) and one weighted (probability of 0.7 for\n",
    "heads and 0.3 for tails). What are the odds of getting “heads” on the weighted coin?\n"
   ]
  },
  {
   "cell_type": "code",
   "execution_count": 2,
   "metadata": {},
   "outputs": [
    {
     "name": "stdout",
     "output_type": "stream",
     "text": [
      "2.333333333333333\n"
     ]
    }
   ],
   "source": [
    "import matplotlib.pyplot as plt\n",
    "import numpy as np\n",
    "\n",
    "p_f_h = 0.5\n",
    "p_f_t = 0.5\n",
    "p_w_h = 0.7\n",
    "p_w_t = 0.3\n",
    "odds_f_h = p_f_h/(1-p_f_h)\n",
    "odds_w_h = p_w_h/(1-p_w_h)\n",
    "odds_ratio = odds_w_h/odds_f_h\n",
    "print(odds_ratio)"
   ]
  },
  {
   "cell_type": "markdown",
   "metadata": {},
   "source": [
    "This means that the odds of getting heads on the weighted coin are 2.33 greater than the fair coin.\n",
    "\n",
    "** The odds ratio in Logistic Regression** \n",
    "\n",
    "- The odds ratio for a variable in logistic regression represents how the odds change with a 1 unit increase\n",
    "in that variable holding all other variables constant\n",
    "- For example :\n",
    "    - Body weight and diabetes (two categories: positive or negative)\n",
    "    - Weight variable had an odds ratio of 1.1\n",
    "    - This means a pound increase in weight increases diabetes by 1.1 (not very high b/c we are looking at 1lb increments)\n",
    "    - A ten pound increase in weight, increases the odds to 1.1 10 .\n",
    "    - This holds true at any point in the weight spectrum.\n",
    "    - It is important not to confuse the odds with probability.\n",
    "    \n",
    "**Bernoulli Distribution**\n",
    "\n",
    "The dependent variable in logistic regression follows the Bernoulli distribution having and unknown probability $p$.\n",
    "\n",
    "- Remember that Bernoulli is only a special case of Binomial distribution where $n = 1$ (one experiment is conducted)\n",
    "- Sucess is 1 and failure is 0;\n",
    "- The probability of sucess is p and failure $q = 1 - p$;\n",
    "- In logistic regression we are estimating an unknown p for any given linear combination of independent variables;\n",
    "- The link between the independent variables and the Bernoulli distribution is called the logit.\n",
    "\n",
    "**Logit**\n",
    "- In logistic regression we don’t know p like we do in Binomial distribution problems. The goal of logistic regression is to estimate p for a linear combination of independent variables.\n",
    "- The natural log of the odds ratio , the logit, results in any value onto the Bernoulli probability distribution between 0 and 1.\n",
    "- $logit(p) = ln(\\dfrac{p}{1-p})$ **OR** $logit(p) = ln(p) - ln(1-p)$\n",
    "- In the logit function, the argument takes values between 0 to 1 but we want the function to take those values. Therefore we will take the inverse of the logit function. $logit^{-1} (a) = \\dfrac{1}{1 + e^{-a}} = \\dfrac{e^{a}}{1 + e^{a}}$ where a is some number and e is Eulier’s number.\n",
    "    - In our case, $a$ will be the linear combination of variables and their coefficients. The inverse-logit will return the probability of being a “1” or in the “evenr occurs” group"
   ]
  },
  {
   "cell_type": "code",
   "execution_count": 7,
   "metadata": {},
   "outputs": [
    {
     "data": {
      "image/png": "[encoded data removed]",
      "text/plain": [
       "<matplotlib.figure.Figure at 0x7f3fa0f6cbe0>"
      ]
     },
     "metadata": {},
     "output_type": "display_data"
    }
   ],
   "source": [
    "def y(a):\n",
    "    return(1/(1 + np.exp(-a)))\n",
    "x =  np.arange(-5, 5, 0.1)\n",
    "z = y(x)\n",
    "plt.scatter(x, z, c = 'darkred')\n",
    "plt.show()\n"
   ]
  },
  {
   "cell_type": "markdown",
   "metadata": {},
   "source": [
    "**Estimated Regression Equation**\n",
    "\n",
    "The natural algorithm of the odds ratio is equivalent to a linear function of the independent variables.\n",
    "\n",
    "$logit(p) = ln(\\dfrac{p}{1−p}) = \\beta_{0} + \\beta_{1} \\chi_{1}$\n",
    "\n",
    "The antilog of the logit function allows us to find the estimation regression equation.\n",
    "$$\\dfrac{p}{1−p} = e^{\\beta_{0} +\\beta_{1}\\chi_{1}}$$\n",
    "$$p = e^{\\beta_{0} +\\beta_{1}\\chi_{1}}(1 − p)$$\n",
    "$$p =e^{\\beta_{0} +\\beta_{1}\\chi_{1}} − e^{\\beta_{0} +\\beta_{1}\\chi_{1}} p$$\n",
    "$$p(1 + e^{\\beta_{0} +\\beta_{1}\\chi_{1}}) = e^{\\beta_{0} +\\beta_{1}\\chi_{1}}$$\n",
    "$$p = \\dfrac{e^{\\beta_{0} +\\beta_{1}\\chi_{1}}}{1+e^{\\beta_{0} +\\beta_{1}\\chi_{1}}}$$\n",
    "Estimated Regression Equation : \n",
    "$$\\hat{p} = \\dfrac{e^{\\beta_{0} +\\beta_{1}\\chi_{1}}}{1+e^{\\beta_{0} +\\beta_{1}\\chi_{1}}}$$\n",
    "\n",
    "**Parameter Estimation**\n",
    "\n",
    "We use the maximum likelihood to estimate the parameters. \n",
    "\n",
    "$$l(\\beta_{0}, \\beta_{1}) = \\prod_{i, y_{i} = 1}p(x_{i})\\prod_{i, y_{i} = 0}(1 - p(x_{i}))$$\n",
    "\n",
    "This likelihood gives the probability of the observed zeros and\n",
    "ones in the data. We pick $β_{0}$ and $β_{1}$ to maximize the likelihood of the observed data."
   ]
  },
  {
   "cell_type": "code",
   "execution_count": 5,
   "metadata": {},
   "outputs": [
    {
     "name": "stdout",
     "output_type": "stream",
     "text": [
      "Optimization terminated successfully.\n",
      "         Current function value: 0.558711\n",
      "         Iterations 6\n"
     ]
    },
    {
     "data": {
      "text/html": [
       "<table class=\"simpletable\">\n",
       "<caption>Logit Regression Results</caption>\n",
       "<tr>\n",
       "  <th>Dep. Variable:</th>        <td>chd</td>       <th>  No. Observations:  </th>  <td>   462</td>  \n",
       "</tr>\n",
       "<tr>\n",
       "  <th>Model:</th>               <td>Logit</td>      <th>  Df Residuals:      </th>  <td>   455</td>  \n",
       "</tr>\n",
       "<tr>\n",
       "  <th>Method:</th>               <td>MLE</td>       <th>  Df Model:          </th>  <td>     6</td>  \n",
       "</tr>\n",
       "<tr>\n",
       "  <th>Date:</th>          <td>Tue, 06 Mar 2018</td> <th>  Pseudo R-squ.:     </th>  <td>0.1340</td>  \n",
       "</tr>\n",
       "<tr>\n",
       "  <th>Time:</th>              <td>21:06:46</td>     <th>  Log-Likelihood:    </th> <td> -258.12</td> \n",
       "</tr>\n",
       "<tr>\n",
       "  <th>converged:</th>           <td>True</td>       <th>  LL-Null:           </th> <td> -298.05</td> \n",
       "</tr>\n",
       "<tr>\n",
       "  <th> </th>                      <td> </td>        <th>  LLR p-value:       </th> <td>3.820e-15</td>\n",
       "</tr>\n",
       "</table>\n",
       "<table class=\"simpletable\">\n",
       "<tr>\n",
       "      <td></td>         <th>coef</th>     <th>std err</th>      <th>z</th>      <th>P>|z|</th>  <th>[0.025</th>    <th>0.975]</th>  \n",
       "</tr>\n",
       "<tr>\n",
       "  <th>tobacco</th>   <td>    0.0828</td> <td>    0.026</td> <td>    3.140</td> <td> 0.002</td> <td>    0.031</td> <td>    0.134</td>\n",
       "</tr>\n",
       "<tr>\n",
       "  <th>ldl</th>       <td>    0.1759</td> <td>    0.058</td> <td>    3.024</td> <td> 0.002</td> <td>    0.062</td> <td>    0.290</td>\n",
       "</tr>\n",
       "<tr>\n",
       "  <th>adiposity</th> <td>    0.0689</td> <td>    0.026</td> <td>    2.611</td> <td> 0.009</td> <td>    0.017</td> <td>    0.121</td>\n",
       "</tr>\n",
       "<tr>\n",
       "  <th>typea</th>     <td>    0.0075</td> <td>    0.010</td> <td>    0.777</td> <td> 0.437</td> <td>   -0.011</td> <td>    0.026</td>\n",
       "</tr>\n",
       "<tr>\n",
       "  <th>obesity</th>   <td>   -0.1972</td> <td>    0.036</td> <td>   -5.466</td> <td> 0.000</td> <td>   -0.268</td> <td>   -0.126</td>\n",
       "</tr>\n",
       "<tr>\n",
       "  <th>alcohol</th>   <td>    0.0001</td> <td>    0.004</td> <td>    0.031</td> <td> 0.975</td> <td>   -0.008</td> <td>    0.009</td>\n",
       "</tr>\n",
       "<tr>\n",
       "  <th>age</th>       <td>    0.0264</td> <td>    0.010</td> <td>    2.768</td> <td> 0.006</td> <td>    0.008</td> <td>    0.045</td>\n",
       "</tr>\n",
       "</table>"
      ],
      "text/plain": [
       "<class 'statsmodels.iolib.summary.Summary'>\n",
       "\"\"\"\n",
       "                           Logit Regression Results                           \n",
       "==============================================================================\n",
       "Dep. Variable:                    chd   No. Observations:                  462\n",
       "Model:                          Logit   Df Residuals:                      455\n",
       "Method:                           MLE   Df Model:                            6\n",
       "Date:                Tue, 06 Mar 2018   Pseudo R-squ.:                  0.1340\n",
       "Time:                        21:06:46   Log-Likelihood:                -258.12\n",
       "converged:                       True   LL-Null:                       -298.05\n",
       "                                        LLR p-value:                 3.820e-15\n",
       "==============================================================================\n",
       "                 coef    std err          z      P>|z|      [0.025      0.975]\n",
       "------------------------------------------------------------------------------\n",
       "tobacco        0.0828      0.026      3.140      0.002       0.031       0.134\n",
       "ldl            0.1759      0.058      3.024      0.002       0.062       0.290\n",
       "adiposity      0.0689      0.026      2.611      0.009       0.017       0.121\n",
       "typea          0.0075      0.010      0.777      0.437      -0.011       0.026\n",
       "obesity       -0.1972      0.036     -5.466      0.000      -0.268      -0.126\n",
       "alcohol        0.0001      0.004      0.031      0.975      -0.008       0.009\n",
       "age            0.0264      0.010      2.768      0.006       0.008       0.045\n",
       "==============================================================================\n",
       "\"\"\""
      ]
     },
     "execution_count": 5,
     "metadata": {},
     "output_type": "execute_result"
    }
   ],
   "source": [
    "from sklearn import datasets \n",
    "import statsmodels.formula.api as sm\n",
    "import pandas as pd\n",
    "from scipy import stats\n",
    "stats.chisqprob = lambda chisq, df: stats.chi2.sf(chisq, df)\n",
    "\n",
    "data = pd.read_table(\"SAheart.data.txt\", sep = \",\")\n",
    "X = data.iloc[:,[2,3, 4,6, 7, 8,9]]\n",
    "Y = data[\"chd\"]\n",
    "\n",
    "model = sm.Logit(Y, X)\n",
    "result = model.fit()\n",
    "result.summary()"
   ]
  },
  {
   "cell_type": "markdown",
   "metadata": {},
   "source": [
    "This summary shows an overview of the model such as the dependent variable, the method used to estimate the parameters (MLE).\n",
    "\n",
    "However, it gets into much more detail. \n",
    "\n",
    "The first important information is the display of coefficients. Then, Z scores are also quite important because it indicates whether the independent variable is significant for the determination of dependent variable. It is calculated as the coefficients divided by their standard errors. \n",
    "\n",
    "Each of these correspond formally to a test of the null hypothesis that the coefficient in question is zero, while all the others are not (also known as the Wald test). A Z score greater than approximately 2 in absolute value is significant at the 5% level.\n"
   ]
  },
  {
   "cell_type": "code",
   "execution_count": 6,
   "metadata": {},
   "outputs": [
    {
     "data": {
      "text/plain": [
       "tobacco      0.082756\n",
       "ldl          0.175936\n",
       "adiposity    0.068930\n",
       "typea        0.007503\n",
       "obesity     -0.197171\n",
       "alcohol      0.000136\n",
       "age          0.026436\n",
       "dtype: float64"
      ]
     },
     "execution_count": 6,
     "metadata": {},
     "output_type": "execute_result"
    }
   ],
   "source": [
    "coefficients = result.params\n",
    "coefficients"
   ]
  }
 ],
 "metadata": {
  "kernelspec": {
   "display_name": "Python 3",
   "language": "python",
   "name": "python3"
  },
  "language_info": {
   "codemirror_mode": {
    "name": "ipython",
    "version": 3
   },
   "file_extension": ".py",
   "mimetype": "text/x-python",
   "name": "python",
   "nbconvert_exporter": "python",
   "pygments_lexer": "ipython3",
   "version": "3.6.2"
  }
 },
 "nbformat": 4,
 "nbformat_minor": 2
}
